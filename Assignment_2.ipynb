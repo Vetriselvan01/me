{
  "nbformat": 4,
  "nbformat_minor": 0,
  "metadata": {
    "colab": {
      "provenance": [],
      "authorship_tag": "ABX9TyOdwDpzk1QUNrFlGJr2W8kE"
    },
    "kernelspec": {
      "name": "python3",
      "display_name": "Python 3"
    },
    "language_info": {
      "name": "python"
    }
  },
  "cells": [
    {
      "cell_type": "markdown",
      "source": [
        "##Import"
      ],
      "metadata": {
        "id": "KMs2Z-KDsNpS"
      }
    },
    {
      "cell_type": "code",
      "source": [
        "import numpy as np\n",
        "import pandas as pd\n",
        "from sklearn.model_selection import train_test_split\n",
        "from sklearn.preprocessing import StandardScaler\n",
        "from tensorflow.keras.models import Sequential\n",
        "from tensorflow.keras.layers import Dense, Dropout\n",
        "from tensorflow.keras.optimizers import Adam\n",
        "from sklearn.metrics import r2_score"
      ],
      "metadata": {
        "id": "rvzWfnG6rlXB"
      },
      "execution_count": 23,
      "outputs": []
    },
    {
      "cell_type": "markdown",
      "source": [
        "##ANN"
      ],
      "metadata": {
        "id": "6os5jET7sVZd"
      }
    },
    {
      "cell_type": "code",
      "source": [
        "\n",
        "\n",
        "df = pd.read_csv('/content/House Price India.csv')\n",
        "df.drop('Date', axis=1, inplace=True)\n",
        "\n",
        "X = df.iloc[:, :-1].values\n",
        "y = df.iloc[:, -1].values\n",
        "X_train, X_test, y_train, y_test = train_test_split(X, y, test_size=0.2, random_state=42)\n",
        "\n",
        "sc = StandardScaler()\n",
        "X_train = sc.fit_transform(X_train)\n",
        "X_test = sc.transform(X_test)\n",
        "\n",
        "model = Sequential()\n",
        "model.add(Dense(units=64, activation='relu', input_dim=X_train.shape[1]))\n",
        "model.add(Dense(units=128, activation='relu'))\n",
        "model.add(Dense(units=256, activation='relu'))\n",
        "model.add(Dense(units=512, activation='relu'))\n",
        "model.add(Dense(units=1, activation='linear'))\n"
      ],
      "metadata": {
        "id": "AkbWYDQdruP2"
      },
      "execution_count": 26,
      "outputs": []
    },
    {
      "cell_type": "code",
      "source": [
        "model.compile(loss='mean_squared_error', optimizer=Adam(learning_rate=0.001))\n",
        "\n",
        "model.fit(X_train, y_train, epochs=200, batch_size=64, validation_split=0.2, verbose=0)\n"
      ],
      "metadata": {
        "colab": {
          "base_uri": "https://localhost:8080/"
        },
        "id": "bDvjjAuGr8Z0",
        "outputId": "bd6c0bd7-bfb8-422f-b2e4-bb1dc5cbc23d"
      },
      "execution_count": 29,
      "outputs": [
        {
          "output_type": "execute_result",
          "data": {
            "text/plain": [
              "<keras.callbacks.History at 0x7fbb8c999ae0>"
            ]
          },
          "metadata": {},
          "execution_count": 29
        }
      ]
    },
    {
      "cell_type": "code",
      "source": [
        "\n",
        "y_pred = model.predict(X_test)\n",
        "\n",
        "r2 = r2_score(y_test, y_pred)\n",
        "print(\"R^2 Score: \", r2)"
      ],
      "metadata": {
        "colab": {
          "base_uri": "https://localhost:8080/"
        },
        "id": "e9pIO2BasANc",
        "outputId": "30b75b7a-f138-4c45-f9a2-4249cab27e62"
      },
      "execution_count": 30,
      "outputs": [
        {
          "output_type": "stream",
          "name": "stdout",
          "text": [
            "92/92 [==============================] - 0s 2ms/step\n",
            "R^2 Score:  0.969205680591712\n"
          ]
        }
      ]
    },
    {
      "cell_type": "code",
      "source": [
        "r2*100"
      ],
      "metadata": {
        "colab": {
          "base_uri": "https://localhost:8080/"
        },
        "id": "WhBJikAXuNet",
        "outputId": "1f71f2f1-64b1-4ef1-d1ff-fd43b81fc51f"
      },
      "execution_count": 31,
      "outputs": [
        {
          "output_type": "execute_result",
          "data": {
            "text/plain": [
              "96.9205680591712"
            ]
          },
          "metadata": {},
          "execution_count": 31
        }
      ]
    },
    {
      "cell_type": "markdown",
      "source": [
        "##Test"
      ],
      "metadata": {
        "id": "2XXx8nwasDqr"
      }
    },
    {
      "cell_type": "code",
      "source": [
        "df.head()"
      ],
      "metadata": {
        "colab": {
          "base_uri": "https://localhost:8080/",
          "height": 352
        },
        "id": "LrqDbEayqFEe",
        "outputId": "99fc563f-db0c-4c19-beae-df5b46ee707d"
      },
      "execution_count": 15,
      "outputs": [
        {
          "output_type": "execute_result",
          "data": {
            "text/plain": [
              "           id  number of bedrooms  number of bathrooms  living area  lot area  \\\n",
              "0  6762810145                   5                 2.50         3650      9050   \n",
              "1  6762810635                   4                 2.50         2920      4000   \n",
              "2  6762810998                   5                 2.75         2910      9480   \n",
              "3  6762812605                   4                 2.50         3310     42998   \n",
              "4  6762812919                   3                 2.00         2710      4500   \n",
              "\n",
              "   number of floors  waterfront present  number of views  \\\n",
              "0               2.0                   0                4   \n",
              "1               1.5                   0                0   \n",
              "2               1.5                   0                0   \n",
              "3               2.0                   0                0   \n",
              "4               1.5                   0                0   \n",
              "\n",
              "   condition of the house  grade of the house  ...  Built Year  \\\n",
              "0                       5                  10  ...        1921   \n",
              "1                       5                   8  ...        1909   \n",
              "2                       3                   8  ...        1939   \n",
              "3                       3                   9  ...        2001   \n",
              "4                       4                   8  ...        1929   \n",
              "\n",
              "   Renovation Year  Postal Code  Lattitude  Longitude  living_area_renov  \\\n",
              "0                0       122003    52.8645   -114.557               2880   \n",
              "1                0       122004    52.8878   -114.470               2470   \n",
              "2                0       122004    52.8852   -114.468               2940   \n",
              "3                0       122005    52.9532   -114.321               3350   \n",
              "4                0       122006    52.9047   -114.485               2060   \n",
              "\n",
              "   lot_area_renov  Number of schools nearby  Distance from the airport  \\\n",
              "0            5400                         2                         58   \n",
              "1            4000                         2                         51   \n",
              "2            6600                         1                         53   \n",
              "3           42847                         3                         76   \n",
              "4            4500                         1                         51   \n",
              "\n",
              "     Price  \n",
              "0  2380000  \n",
              "1  1400000  \n",
              "2  1200000  \n",
              "3   838000  \n",
              "4   805000  \n",
              "\n",
              "[5 rows x 22 columns]"
            ],
            "text/html": [
              "\n",
              "  <div id=\"df-b8379fa7-5323-47c5-905c-7dba6fb9f41d\">\n",
              "    <div class=\"colab-df-container\">\n",
              "      <div>\n",
              "<style scoped>\n",
              "    .dataframe tbody tr th:only-of-type {\n",
              "        vertical-align: middle;\n",
              "    }\n",
              "\n",
              "    .dataframe tbody tr th {\n",
              "        vertical-align: top;\n",
              "    }\n",
              "\n",
              "    .dataframe thead th {\n",
              "        text-align: right;\n",
              "    }\n",
              "</style>\n",
              "<table border=\"1\" class=\"dataframe\">\n",
              "  <thead>\n",
              "    <tr style=\"text-align: right;\">\n",
              "      <th></th>\n",
              "      <th>id</th>\n",
              "      <th>number of bedrooms</th>\n",
              "      <th>number of bathrooms</th>\n",
              "      <th>living area</th>\n",
              "      <th>lot area</th>\n",
              "      <th>number of floors</th>\n",
              "      <th>waterfront present</th>\n",
              "      <th>number of views</th>\n",
              "      <th>condition of the house</th>\n",
              "      <th>grade of the house</th>\n",
              "      <th>...</th>\n",
              "      <th>Built Year</th>\n",
              "      <th>Renovation Year</th>\n",
              "      <th>Postal Code</th>\n",
              "      <th>Lattitude</th>\n",
              "      <th>Longitude</th>\n",
              "      <th>living_area_renov</th>\n",
              "      <th>lot_area_renov</th>\n",
              "      <th>Number of schools nearby</th>\n",
              "      <th>Distance from the airport</th>\n",
              "      <th>Price</th>\n",
              "    </tr>\n",
              "  </thead>\n",
              "  <tbody>\n",
              "    <tr>\n",
              "      <th>0</th>\n",
              "      <td>6762810145</td>\n",
              "      <td>5</td>\n",
              "      <td>2.50</td>\n",
              "      <td>3650</td>\n",
              "      <td>9050</td>\n",
              "      <td>2.0</td>\n",
              "      <td>0</td>\n",
              "      <td>4</td>\n",
              "      <td>5</td>\n",
              "      <td>10</td>\n",
              "      <td>...</td>\n",
              "      <td>1921</td>\n",
              "      <td>0</td>\n",
              "      <td>122003</td>\n",
              "      <td>52.8645</td>\n",
              "      <td>-114.557</td>\n",
              "      <td>2880</td>\n",
              "      <td>5400</td>\n",
              "      <td>2</td>\n",
              "      <td>58</td>\n",
              "      <td>2380000</td>\n",
              "    </tr>\n",
              "    <tr>\n",
              "      <th>1</th>\n",
              "      <td>6762810635</td>\n",
              "      <td>4</td>\n",
              "      <td>2.50</td>\n",
              "      <td>2920</td>\n",
              "      <td>4000</td>\n",
              "      <td>1.5</td>\n",
              "      <td>0</td>\n",
              "      <td>0</td>\n",
              "      <td>5</td>\n",
              "      <td>8</td>\n",
              "      <td>...</td>\n",
              "      <td>1909</td>\n",
              "      <td>0</td>\n",
              "      <td>122004</td>\n",
              "      <td>52.8878</td>\n",
              "      <td>-114.470</td>\n",
              "      <td>2470</td>\n",
              "      <td>4000</td>\n",
              "      <td>2</td>\n",
              "      <td>51</td>\n",
              "      <td>1400000</td>\n",
              "    </tr>\n",
              "    <tr>\n",
              "      <th>2</th>\n",
              "      <td>6762810998</td>\n",
              "      <td>5</td>\n",
              "      <td>2.75</td>\n",
              "      <td>2910</td>\n",
              "      <td>9480</td>\n",
              "      <td>1.5</td>\n",
              "      <td>0</td>\n",
              "      <td>0</td>\n",
              "      <td>3</td>\n",
              "      <td>8</td>\n",
              "      <td>...</td>\n",
              "      <td>1939</td>\n",
              "      <td>0</td>\n",
              "      <td>122004</td>\n",
              "      <td>52.8852</td>\n",
              "      <td>-114.468</td>\n",
              "      <td>2940</td>\n",
              "      <td>6600</td>\n",
              "      <td>1</td>\n",
              "      <td>53</td>\n",
              "      <td>1200000</td>\n",
              "    </tr>\n",
              "    <tr>\n",
              "      <th>3</th>\n",
              "      <td>6762812605</td>\n",
              "      <td>4</td>\n",
              "      <td>2.50</td>\n",
              "      <td>3310</td>\n",
              "      <td>42998</td>\n",
              "      <td>2.0</td>\n",
              "      <td>0</td>\n",
              "      <td>0</td>\n",
              "      <td>3</td>\n",
              "      <td>9</td>\n",
              "      <td>...</td>\n",
              "      <td>2001</td>\n",
              "      <td>0</td>\n",
              "      <td>122005</td>\n",
              "      <td>52.9532</td>\n",
              "      <td>-114.321</td>\n",
              "      <td>3350</td>\n",
              "      <td>42847</td>\n",
              "      <td>3</td>\n",
              "      <td>76</td>\n",
              "      <td>838000</td>\n",
              "    </tr>\n",
              "    <tr>\n",
              "      <th>4</th>\n",
              "      <td>6762812919</td>\n",
              "      <td>3</td>\n",
              "      <td>2.00</td>\n",
              "      <td>2710</td>\n",
              "      <td>4500</td>\n",
              "      <td>1.5</td>\n",
              "      <td>0</td>\n",
              "      <td>0</td>\n",
              "      <td>4</td>\n",
              "      <td>8</td>\n",
              "      <td>...</td>\n",
              "      <td>1929</td>\n",
              "      <td>0</td>\n",
              "      <td>122006</td>\n",
              "      <td>52.9047</td>\n",
              "      <td>-114.485</td>\n",
              "      <td>2060</td>\n",
              "      <td>4500</td>\n",
              "      <td>1</td>\n",
              "      <td>51</td>\n",
              "      <td>805000</td>\n",
              "    </tr>\n",
              "  </tbody>\n",
              "</table>\n",
              "<p>5 rows × 22 columns</p>\n",
              "</div>\n",
              "      <button class=\"colab-df-convert\" onclick=\"convertToInteractive('df-b8379fa7-5323-47c5-905c-7dba6fb9f41d')\"\n",
              "              title=\"Convert this dataframe to an interactive table.\"\n",
              "              style=\"display:none;\">\n",
              "        \n",
              "  <svg xmlns=\"http://www.w3.org/2000/svg\" height=\"24px\"viewBox=\"0 0 24 24\"\n",
              "       width=\"24px\">\n",
              "    <path d=\"M0 0h24v24H0V0z\" fill=\"none\"/>\n",
              "    <path d=\"M18.56 5.44l.94 2.06.94-2.06 2.06-.94-2.06-.94-.94-2.06-.94 2.06-2.06.94zm-11 1L8.5 8.5l.94-2.06 2.06-.94-2.06-.94L8.5 2.5l-.94 2.06-2.06.94zm10 10l.94 2.06.94-2.06 2.06-.94-2.06-.94-.94-2.06-.94 2.06-2.06.94z\"/><path d=\"M17.41 7.96l-1.37-1.37c-.4-.4-.92-.59-1.43-.59-.52 0-1.04.2-1.43.59L10.3 9.45l-7.72 7.72c-.78.78-.78 2.05 0 2.83L4 21.41c.39.39.9.59 1.41.59.51 0 1.02-.2 1.41-.59l7.78-7.78 2.81-2.81c.8-.78.8-2.07 0-2.86zM5.41 20L4 18.59l7.72-7.72 1.47 1.35L5.41 20z\"/>\n",
              "  </svg>\n",
              "      </button>\n",
              "      \n",
              "  <style>\n",
              "    .colab-df-container {\n",
              "      display:flex;\n",
              "      flex-wrap:wrap;\n",
              "      gap: 12px;\n",
              "    }\n",
              "\n",
              "    .colab-df-convert {\n",
              "      background-color: #E8F0FE;\n",
              "      border: none;\n",
              "      border-radius: 50%;\n",
              "      cursor: pointer;\n",
              "      display: none;\n",
              "      fill: #1967D2;\n",
              "      height: 32px;\n",
              "      padding: 0 0 0 0;\n",
              "      width: 32px;\n",
              "    }\n",
              "\n",
              "    .colab-df-convert:hover {\n",
              "      background-color: #E2EBFA;\n",
              "      box-shadow: 0px 1px 2px rgba(60, 64, 67, 0.3), 0px 1px 3px 1px rgba(60, 64, 67, 0.15);\n",
              "      fill: #174EA6;\n",
              "    }\n",
              "\n",
              "    [theme=dark] .colab-df-convert {\n",
              "      background-color: #3B4455;\n",
              "      fill: #D2E3FC;\n",
              "    }\n",
              "\n",
              "    [theme=dark] .colab-df-convert:hover {\n",
              "      background-color: #434B5C;\n",
              "      box-shadow: 0px 1px 3px 1px rgba(0, 0, 0, 0.15);\n",
              "      filter: drop-shadow(0px 1px 2px rgba(0, 0, 0, 0.3));\n",
              "      fill: #FFFFFF;\n",
              "    }\n",
              "  </style>\n",
              "\n",
              "      <script>\n",
              "        const buttonEl =\n",
              "          document.querySelector('#df-b8379fa7-5323-47c5-905c-7dba6fb9f41d button.colab-df-convert');\n",
              "        buttonEl.style.display =\n",
              "          google.colab.kernel.accessAllowed ? 'block' : 'none';\n",
              "\n",
              "        async function convertToInteractive(key) {\n",
              "          const element = document.querySelector('#df-b8379fa7-5323-47c5-905c-7dba6fb9f41d');\n",
              "          const dataTable =\n",
              "            await google.colab.kernel.invokeFunction('convertToInteractive',\n",
              "                                                     [key], {});\n",
              "          if (!dataTable) return;\n",
              "\n",
              "          const docLinkHtml = 'Like what you see? Visit the ' +\n",
              "            '<a target=\"_blank\" href=https://colab.research.google.com/notebooks/data_table.ipynb>data table notebook</a>'\n",
              "            + ' to learn more about interactive tables.';\n",
              "          element.innerHTML = '';\n",
              "          dataTable['output_type'] = 'display_data';\n",
              "          await google.colab.output.renderOutput(dataTable, element);\n",
              "          const docLink = document.createElement('div');\n",
              "          docLink.innerHTML = docLinkHtml;\n",
              "          element.appendChild(docLink);\n",
              "        }\n",
              "      </script>\n",
              "    </div>\n",
              "  </div>\n",
              "  "
            ]
          },
          "metadata": {},
          "execution_count": 15
        }
      ]
    },
    {
      "cell_type": "code",
      "source": [
        "# Select a row from the test data\n",
        "row = X_test[0]\n",
        "\n",
        "# Reshape the row to match the input shape of the model\n",
        "row = row.reshape(1, -1)\n",
        "\n",
        "# Make predictions on the row\n",
        "y_pred = model.predict(row)\n",
        "\n",
        "# Print the predicted price\n",
        "print(y_pred)\n"
      ],
      "metadata": {
        "colab": {
          "base_uri": "https://localhost:8080/"
        },
        "id": "f_cSw6xvqwro",
        "outputId": "7d529497-e878-41c4-905b-368f00c64139"
      },
      "execution_count": 32,
      "outputs": [
        {
          "output_type": "stream",
          "name": "stdout",
          "text": [
            "1/1 [==============================] - 0s 23ms/step\n",
            "[[228565.8]]\n"
          ]
        }
      ]
    },
    {
      "cell_type": "code",
      "source": [
        "# Select a row from the test data\n",
        "row = X_test[3]\n",
        "\n",
        "# Reshape the row to match the input shape of the model\n",
        "row = row.reshape(1, -1)\n",
        "\n",
        "# Make predictions on the row\n",
        "y_pred = model.predict(row)\n",
        "\n",
        "# Print the predicted price\n",
        "print(y_pred)\n"
      ],
      "metadata": {
        "colab": {
          "base_uri": "https://localhost:8080/"
        },
        "id": "ocpKEadmrZZf",
        "outputId": "08987b42-beea-4a4b-c253-6f903309b28a"
      },
      "execution_count": 35,
      "outputs": [
        {
          "output_type": "stream",
          "name": "stdout",
          "text": [
            "1/1 [==============================] - 0s 28ms/step\n",
            "[[551266.4]]\n"
          ]
        }
      ]
    },
    {
      "cell_type": "code",
      "source": [
        "# Select a row from the test data\n",
        "row = X_test[4]\n",
        "\n",
        "# Reshape the row to match the input shape of the model\n",
        "row = row.reshape(1, -1)\n",
        "\n",
        "# Make predictions on the row\n",
        "y_pred = model.predict(row)\n",
        "\n",
        "# Print the predicted price\n",
        "print(y_pred)\n"
      ],
      "metadata": {
        "colab": {
          "base_uri": "https://localhost:8080/"
        },
        "id": "19jD-6KOreNP",
        "outputId": "3b7a9183-036d-4220-cee4-44e51fe3523b"
      },
      "execution_count": 36,
      "outputs": [
        {
          "output_type": "stream",
          "name": "stdout",
          "text": [
            "1/1 [==============================] - 0s 39ms/step\n",
            "[[633867.44]]\n"
          ]
        }
      ]
    }
  ]
}